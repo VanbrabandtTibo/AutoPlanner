{
 "cells": [
  {
   "cell_type": "code",
   "execution_count": 1,
   "metadata": {},
   "outputs": [],
   "source": [
    "import pulp as plp\n",
    "from pulp import LpProblem, LpMaximize, LpVariable, lpSum\n",
    "from domain.entities import DayOfTheWeek, Employee, Patient\n",
    "import itertools"
   ]
  },
  {
   "attachments": {},
   "cell_type": "markdown",
   "metadata": {},
   "source": [
    "### Employee Schedules\n",
    "We limited the schedules from 7:00 to 12:00 for clarity\n",
    "| Employee 1 | Monday | Tuesday | Wednesday | Thursday | Friday | Saturday | Sunday |\n",
    "| --- | --- | --- | --- | --- | --- | --- | --- |\n",
    "| 07:00 - 7:30  | G1 | G2 | -- | G1 | G3 | -- | -- |\n",
    "| 07:30 - 8:00  | G1 | G2 | -- | G1 | G3 | -- | -- |\n",
    "| 08:00 - 8:30  | G1 | G2 | -- | G1 | G3 | -- | -- |\n",
    "| 08:30 - 9:00  | -- | -- | -- | -- | G3 | -- | -- |\n",
    "| 09:00 - 9:30  | -- | -- | -- | -- | G3 | -- | -- |\n",
    "| 09:30 - 10:00 | G2 | G3 | -- | G3 | -- | -- | -- |\n",
    "| 10:00 - 10:30 | G2 | G3 | -- | G3 | -- | -- | -- |\n",
    "| 10:30 - 11:00 | G2 | G3 | -- | G3 | -- | -- | -- |\n",
    "| 11:00 - 11:30 | G1 | G3 | -- | G3 | -- | -- | -- |\n",
    "| 11:30 - 12:00 | G1 | G3 | -- | G3 | -- | -- | -- |\n",
    "\n",
    "| Employee 2 | Monday | Tuesday | Wednesday | Thursday | Friday | Saturday | Sunday |\n",
    "| --- | --- | --- | --- | --- | --- | --- | --- |\n",
    "| 07:00 - 7:30  | -- | -- | G1 | G2 | -- | -- | -- |\n",
    "| 07:30 - 8:00  | -- | G1 | G3 | G2 | -- | -- | -- |\n",
    "| 08:00 - 8:30  | -- | G1 | G3 | -- | -- | -- | -- |\n",
    "| 08:30 - 9:00  | -- | -- | -- | -- | -- | -- | -- |\n",
    "| 09:00 - 9:30  | -- | -- | -- | -- | -- | -- | -- |\n",
    "| 09:30 - 10:00 | G3 | G1 | G2 | -- | -- | -- | -- |\n",
    "| 10:00 - 10:30 | G3 | G1 | G2 | -- | -- | -- | -- |\n",
    "| 10:30 - 11:00 | G3 | -- | G2 | G1 | -- | -- | -- |\n",
    "| 11:00 - 11:30 | G3 | -- | G2 | G1 | -- | -- | -- |\n",
    "| 11:30 - 12:00 | G3 | -- | G2 | G1 | -- | -- | -- |\n",
    "\n",
    "| Employee 3 | Monday | Tuesday | Wednesday | Thursday | Friday | Saturday | Sunday |\n",
    "| --- | --- | --- | --- | --- | --- | --- | --- |\n",
    "| 07:00 - 7:30  | -- | G3 | G2 | -- | G2 | -- | -- |\n",
    "| 07:30 - 8:00  | -- | G3 | G2 | -- | G2 | -- | -- |\n",
    "| 08:00 - 8:30  | -- | -- | G2 | -- | G2 | -- | -- |\n",
    "| 08:30 - 9:00  | -- | -- | -- | -- | -- | -- | -- |\n",
    "| 09:00 - 9:30  | -- | G1 | -- | -- | G3 | -- | -- |\n",
    "| 09:30 - 10:00 | -- | -- | G1 | -- | G1 | -- | -- |\n",
    "| 10:00 - 10:30 | -- | G1 | G1 | -- | G1 | -- | -- |\n",
    "| 10:30 - 11:00 | -- | G1 | G1 | -- | G1 | -- | -- |\n",
    "| 11:00 - 11:30 | -- | -- | -- | -- | -- | -- | -- |\n",
    "| 11:30 - 12:00 | -- | -- | -- | -- | -- | -- | -- |\n",
    "\n",
    "| Occupation | Monday | Tuesday | Wednesday | Thursday | Friday | Saturday | Sunday |\n",
    "| --- | --- | --- | --- | --- | --- | --- | --- |\n",
    "| 07:00 - 7:30  | G1----- | G2----G3 | ---G1-G2 | G1-G2--- | G3----G2 | -- | -- |\n",
    "| 07:30 - 8:00  | G1----- | G2-G1-G3 | ---G3-G2 | G1-G2--- | G3----G2 | -- | -- |\n",
    "| 08:00 - 8:30  | G1----- | G2-G1--- | ---G3-G2 | G1------ | G3----G2 | -- | -- |\n",
    "| 08:30 - 9:00  | ------- | -------- | -------- | -------- | G3------ | -- | -- |\n",
    "| 09:00 - 9:30  | ------- | ------G1 | -------- | -------- | G3----G3 | -- | -- |\n",
    "| 09:30 - 10:00 | G2-G3-- | G3-G1--- | ---G2-G1 | G3------ | ------G1 | -- | -- |\n",
    "| 10:00 - 10:30 | G2-G3-- | G3-G1-G1 | ---G2-G1 | G3------ | ------G1 | -- | -- |\n",
    "| 10:30 - 11:00 | G2-G3-- | G3----G1 | ---G2-G1 | G3-G1--- | ------G1 | -- | -- |\n",
    "| 11:00 - 11:30 | G1-G3-- | G3------ | ---G2--- | G3-G1--- | -------- | -- | -- |\n",
    "| 11:30 - 12:00 | G1-G3-- | G3------ | ---G2--- | G3-G1--- | -------- | -- | -- |\n",
    "\n",
    "\n",
    "\n"
   ]
  },
  {
   "attachments": {},
   "cell_type": "markdown",
   "metadata": {},
   "source": [
    "### Patient Schedules\n",
    "We limited the schedules from 7:00 to 12:00 for clarity\n",
    "| Patient 1 | Monday | Tuesday | Wednesday | Thursday | Friday | Saturday | Sunday |\n",
    "| --- | --- | --- | --- | --- | --- | --- | --- |\n",
    "| 07:00 - 7:30  | -- | -- | -- | -- | -- | -- | -- |\n",
    "| 07:30 - 8:00  | -- | -- | -- | -- | G3 | -- | -- |\n",
    "| 08:00 - 8:30  | -- | -- | -- | -- | G3 | -- | -- |\n",
    "| 08:30 - 9:00  | -- | -- | -- | -- | G3 | -- | -- |\n",
    "| 09:00 - 9:30  | -- | -- | -- | -- | G3 | -- | -- |\n",
    "| 09:30 - 10:00 | G2 | -- | -- | -- | -- | -- | -- |\n",
    "| 10:00 - 10:30 | G2 | -- | -- | -- | -- | -- | -- |\n",
    "| 10:30 - 11:00 | -- | -- | -- | -- | -- | -- | -- |\n",
    "| 11:00 - 11:30 | G1 | -- | -- | -- | -- | -- | -- |\n",
    "| 11:30 - 12:00 | -- | -- | -- | -- | -- | -- | -- |\n",
    "\n",
    "| Patient 2 | Monday | Tuesday | Wednesday | Thursday | Friday | Saturday | Sunday |\n",
    "| --- | --- | --- | --- | --- | --- | --- | --- |\n",
    "| 07:00 - 7:30  | -- | G3 | -- | -- | -- | -- | -- |\n",
    "| 07:30 - 8:00  | -- | G3 | -- | -- | G3 | -- | -- |\n",
    "| 08:00 - 8:30  | -- | -- | -- | -- | G3 | -- | -- |\n",
    "| 08:30 - 9:00  | -- | -- | -- | -- | G3 | -- | -- |\n",
    "| 09:00 - 9:30  | -- | -- | -- | -- | G3 | -- | -- |\n",
    "| 09:30 - 10:00 | -- | -- | -- | -- | -- | -- | -- |\n",
    "| 10:00 - 10:30 | -- | -- | -- | -- | -- | -- | -- |\n",
    "| 10:30 - 11:00 | -- | -- | -- | -- | -- | -- | -- |\n",
    "| 11:00 - 11:30 | -- | -- | -- | -- | -- | -- | -- |\n",
    "| 11:30 - 12:00 | -- | -- | -- | -- | -- | -- | -- |\n",
    "\n",
    "| Patient 3 | Monday | Tuesday | Wednesday | Thursday | Friday | Saturday | Sunday |\n",
    "| --- | --- | --- | --- | --- | --- | --- | --- |\n",
    "| 07:00 - 7:30  | -- | -- | G2 | -- | -- | -- | -- |\n",
    "| 07:30 - 8:00  | -- | -- | G2 | -- | -- | -- | -- |\n",
    "| 08:00 - 8:30  | -- | -- | G2 | -- | -- | -- | -- |\n",
    "| 08:30 - 9:00  | -- | -- | -- | -- | -- | -- | -- |\n",
    "| 09:00 - 9:30  | -- | -- | -- | -- | -- | -- | -- |\n",
    "| 09:30 - 10:00 | -- | -- | G2 | -- | -- | -- | -- |\n",
    "| 10:00 - 10:30 | -- | -- | G2 | G3 | -- | -- | -- |\n",
    "| 10:30 - 11:00 | -- | -- | G2 | G3 | -- | -- | -- |\n",
    "| 11:00 - 11:30 | -- | -- | -- | G3 | -- | -- | -- |\n",
    "| 11:30 - 12:00 | -- | -- | -- | -- | -- | -- | -- |\n"
   ]
  },
  {
   "cell_type": "code",
   "execution_count": 2,
   "metadata": {},
   "outputs": [],
   "source": [
    "# define dummy employees\n",
    "employee1 = Employee(1)\n",
    "employee2 = Employee(2)\n",
    "employee3 = Employee(3)\n",
    "\n",
    "employee1.schedule.add_items([\n",
    "        (1, DayOfTheWeek.MONDAY, 7,8.5),\n",
    "        (1, DayOfTheWeek.MONDAY, 9.5,12),\n",
    "        (1, DayOfTheWeek.MONDAY, 12.5,14),\n",
    "        (1, DayOfTheWeek.TUESDAY, 7,8.5),\n",
    "        (1, DayOfTheWeek.TUESDAY, 9.5,12),\n",
    "        (1, DayOfTheWeek.THURSDAY,7,8.5),\n",
    "        (1, DayOfTheWeek.THURSDAY,9.5,12),\n",
    "        (1, DayOfTheWeek.FRIDAY, 7,9.5),\n",
    "    ])\n",
    "\n",
    "employee2.schedule.add_items([\n",
    "        (1, DayOfTheWeek.MONDAY, 9.5,12),\n",
    "        (1, DayOfTheWeek.TUESDAY, 7.5,8.5),\n",
    "        (1, DayOfTheWeek.TUESDAY, 9.5,10.5),\n",
    "        (1, DayOfTheWeek.WEDNESDAY, 7,7.5),\n",
    "        (1, DayOfTheWeek.WEDNESDAY,7.5,8.5),\n",
    "        (1, DayOfTheWeek.WEDNESDAY,9.5,12),\n",
    "        (1, DayOfTheWeek.THURSDAY, 7,8),\n",
    "        (1, DayOfTheWeek.THURSDAY, 10.5,12)\n",
    "    ])\n",
    "\n",
    "employee3.schedule.add_items([\n",
    "    (1, DayOfTheWeek.TUESDAY,7,8),\n",
    "    (1, DayOfTheWeek.TUESDAY,9,9.5),\n",
    "    (1, DayOfTheWeek.TUESDAY,10,11),\n",
    "    (1, DayOfTheWeek.WEDNESDAY,7,8.5),\n",
    "    (1, DayOfTheWeek.WEDNESDAY,9.5,11),\n",
    "    (1, DayOfTheWeek.FRIDAY,7,8.5),\n",
    "    (1, DayOfTheWeek.FRIDAY,9,9.5),\n",
    "    (1, DayOfTheWeek.FRIDAY,9.5,11),\n",
    "])\n",
    "\n",
    "employees = [employee1, employee2, employee3]\n"
   ]
  },
  {
   "cell_type": "code",
   "execution_count": 3,
   "metadata": {},
   "outputs": [],
   "source": [
    "# define dummy patients\n",
    "patient1 = Patient(1)\n",
    "patient2 = Patient(2)\n",
    "patient3 = Patient(3)\n",
    "\n",
    "patient1.schedule.add_items([\n",
    "        (1, DayOfTheWeek.MONDAY, 9.5,10.5),\n",
    "        (1, DayOfTheWeek.MONDAY, 11,11.5),\n",
    "        (1, DayOfTheWeek.FRIDAY, 7.5,9.5),\n",
    "    ])\n",
    "\n",
    "patient2.schedule.add_items([\n",
    "    (1, DayOfTheWeek.TUESDAY,7,8),\n",
    "    (1, DayOfTheWeek.FRIDAY,7.5,9.5),\n",
    "    ])\n",
    "\n",
    "patient3.schedule.add_items([\n",
    "    (1, DayOfTheWeek.WEDNESDAY,7,8.5),\n",
    "    (1, DayOfTheWeek.WEDNESDAY,9.5,11),\n",
    "    (1, DayOfTheWeek.THURSDAY,10,11.5),\n",
    "])\n",
    "\n",
    "patients = [patient1, patient2, patient3]"
   ]
  },
  {
   "cell_type": "code",
   "execution_count": 9,
   "metadata": {},
   "outputs": [
    {
     "name": "stdout",
     "output_type": "stream",
     "text": [
      "[(<domain.entities.Employee object at 0x0000024CBA1855D0>, <domain.entities.Employee object at 0x0000024CBA1856D0>), (<domain.entities.Employee object at 0x0000024CBA1855D0>, <domain.entities.Employee object at 0x0000024CBA185910>), (<domain.entities.Employee object at 0x0000024CBA1856D0>, <domain.entities.Employee object at 0x0000024CBA185910>), <domain.entities.Employee object at 0x0000024CBA1855D0>, <domain.entities.Employee object at 0x0000024CBA1856D0>, <domain.entities.Employee object at 0x0000024CBA185910>]\n"
     ]
    }
   ],
   "source": [
    "ct = list(itertools.combinations((employees), 2))\n",
    "ct.extend(employees)\n",
    "print(ct)"
   ]
  },
  {
   "cell_type": "code",
   "execution_count": 16,
   "metadata": {},
   "outputs": [
    {
     "name": "stdout",
     "output_type": "stream",
     "text": [
      "[<domain.entities.Employee object at 0x0000024CBA1855D0>, <domain.entities.Employee object at 0x0000024CBA1856D0>, <domain.entities.Employee object at 0x0000024CBA185910>]\n"
     ]
    }
   ],
   "source": [
    "ct_check = []\n",
    "for therapist_combo in ct:\n",
    "    if type(therapist_combo) == tuple:\n",
    "        if therapist_combo[0].schedule.get_numeric_template() == therapist_combo[1].schedule.get_numeric_template():\n",
    "                if therapist_combo not in ct_check:\n",
    "                    ct_check.append(therapist_combo)\n",
    "    else:\n",
    "        ct_check.append(therapist_combo)\n",
    "print(ct_check)"
   ]
  },
  {
   "cell_type": "code",
   "execution_count": 17,
   "metadata": {},
   "outputs": [
    {
     "name": "stdout",
     "output_type": "stream",
     "text": [
      "[(<domain.entities.Patient object at 0x0000024CBA15DFD0>, <domain.entities.Patient object at 0x0000024CBA15DBD0>, <domain.entities.Patient object at 0x0000024CBA15CA10>), (<domain.entities.Patient object at 0x0000024CBA15DFD0>, <domain.entities.Patient object at 0x0000024CBA15DBD0>), (<domain.entities.Patient object at 0x0000024CBA15DFD0>, <domain.entities.Patient object at 0x0000024CBA15CA10>), (<domain.entities.Patient object at 0x0000024CBA15DBD0>, <domain.entities.Patient object at 0x0000024CBA15CA10>), <domain.entities.Patient object at 0x0000024CBA15DFD0>, <domain.entities.Patient object at 0x0000024CBA15DBD0>, <domain.entities.Patient object at 0x0000024CBA15CA10>]\n"
     ]
    }
   ],
   "source": [
    "cp = list(itertools.combinations((patients), 8 ))\n",
    "cp.extend(itertools.combinations((patients), 7 ))\n",
    "cp.extend(itertools.combinations((patients), 6 ))\n",
    "cp.extend(itertools.combinations((patients), 5 ))\n",
    "cp.extend(itertools.combinations((patients), 4 ))\n",
    "cp.extend(itertools.combinations((patients), 3 ))\n",
    "cp.extend(itertools.combinations((patients), 2 ))\n",
    "cp.extend(patients)\n",
    "print(cp)"
   ]
  },
  {
   "cell_type": "code",
   "execution_count": 18,
   "metadata": {},
   "outputs": [
    {
     "name": "stdout",
     "output_type": "stream",
     "text": [
      "[<domain.entities.Patient object at 0x0000024CBA15DFD0>, <domain.entities.Patient object at 0x0000024CBA15DBD0>, <domain.entities.Patient object at 0x0000024CBA15CA10>]\n"
     ]
    }
   ],
   "source": [
    "cp_check = []\n",
    "a = []\n",
    "for patient_combo in cp:\n",
    "    if type(patient_combo) == tuple:\n",
    "        for patient in patient_combo:\n",
    "            patient_schedule = patient.schedule.get_numeric_template()\n",
    "            a.append(patient_schedule)\n",
    "\n",
    "        f = a[0]\n",
    "        chk = True\n",
    "        for item in a:\n",
    "            if f != item:\n",
    "                chk = False\n",
    "                break\n",
    "        if chk == True:\n",
    "            cp_check.append((patient_combo, day))\n",
    "        else:\n",
    "            continue\n",
    "    else:\n",
    "        cp_check.append(patient_combo)\n",
    "print(cp_check)"
   ]
  },
  {
   "cell_type": "code",
   "execution_count": 7,
   "metadata": {},
   "outputs": [],
   "source": [
    "# Desicion variables for each combination of therapist and patient\n",
    "x = LpVariable.dicts(\"x\", (ct_check, cp_check), lowBound=0, upBound=1, cat=plp.LpInteger)"
   ]
  },
  {
   "cell_type": "code",
   "execution_count": null,
   "metadata": {},
   "outputs": [],
   "source": [
    "# Create the 'prob' variable to contain the problem data\n",
    "prob = LpProblem(\"Therapist Patient Assignment\", LpMaximize)"
   ]
  }
 ],
 "metadata": {
  "kernelspec": {
   "display_name": "base",
   "language": "python",
   "name": "python3"
  },
  "language_info": {
   "codemirror_mode": {
    "name": "ipython",
    "version": 3
   },
   "file_extension": ".py",
   "mimetype": "text/x-python",
   "name": "python",
   "nbconvert_exporter": "python",
   "pygments_lexer": "ipython3",
   "version": "3.11.2"
  },
  "orig_nbformat": 4,
  "vscode": {
   "interpreter": {
    "hash": "64b5ebc2a88562451ee9a774e6cec0de5d53c9a96219bffe930117b4328505ac"
   }
  }
 },
 "nbformat": 4,
 "nbformat_minor": 2
}
