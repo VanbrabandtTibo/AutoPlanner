{
 "cells": [
  {
   "cell_type": "code",
   "execution_count": 1,
   "metadata": {},
   "outputs": [],
   "source": [
    "import pulp as plp\n",
    "from pulp import LpProblem, LpMaximize, LpVariable, lpSum\n",
    "from domain.entities import DayOfTheWeek, Employee, Patient"
   ]
  },
  {
   "attachments": {},
   "cell_type": "markdown",
   "metadata": {},
   "source": [
    "### Employee Schedules\n",
    "We limited the schedules from 7:00 to 12:00 for clarity\n",
    "| Employee 1 | Monday | Tuesday | Wednesday | Thursday | Friday | Saturday | Sunday |\n",
    "| --- | --- | --- | --- | --- | --- | --- | --- |\n",
    "| 07:00 - 7:30  | G1 | G2 | -- | G1 | G3 | -- | -- |\n",
    "| 07:30 - 8:00  | G1 | G2 | -- | G1 | G3 | -- | -- |\n",
    "| 08:00 - 8:30  | G1 | G2 | -- | G1 | G3 | -- | -- |\n",
    "| 08:30 - 9:00  | -- | -- | -- | -- | G3 | -- | -- |\n",
    "| 09:00 - 9:30  | -- | -- | -- | -- | G3 | -- | -- |\n",
    "| 09:30 - 10:00 | G2 | G3 | -- | G3 | -- | -- | -- |\n",
    "| 10:00 - 10:30 | G2 | G3 | -- | G3 | -- | -- | -- |\n",
    "| 10:30 - 11:00 | G2 | G3 | -- | G3 | -- | -- | -- |\n",
    "| 11:00 - 11:30 | G1 | G3 | -- | G3 | -- | -- | -- |\n",
    "| 11:30 - 12:00 | G1 | G3 | -- | G3 | -- | -- | -- |\n",
    "\n",
    "| Employee 2 | Monday | Tuesday | Wednesday | Thursday | Friday | Saturday | Sunday |\n",
    "| --- | --- | --- | --- | --- | --- | --- | --- |\n",
    "| 07:00 - 7:30  | -- | -- | G1 | G2 | -- | -- | -- |\n",
    "| 07:30 - 8:00  | -- | G1 | G3 | G2 | -- | -- | -- |\n",
    "| 08:00 - 8:30  | -- | G1 | G3 | -- | -- | -- | -- |\n",
    "| 08:30 - 9:00  | -- | -- | -- | -- | -- | -- | -- |\n",
    "| 09:00 - 9:30  | -- | -- | -- | -- | -- | -- | -- |\n",
    "| 09:30 - 10:00 | G3 | G1 | G2 | -- | -- | -- | -- |\n",
    "| 10:00 - 10:30 | G3 | G1 | G2 | -- | -- | -- | -- |\n",
    "| 10:30 - 11:00 | G3 | -- | G2 | G1 | -- | -- | -- |\n",
    "| 11:00 - 11:30 | G3 | -- | G2 | G1 | -- | -- | -- |\n",
    "| 11:30 - 12:00 | G3 | -- | G2 | G1 | -- | -- | -- |\n",
    "\n",
    "| Employee 3 | Monday | Tuesday | Wednesday | Thursday | Friday | Saturday | Sunday |\n",
    "| --- | --- | --- | --- | --- | --- | --- | --- |\n",
    "| 07:00 - 7:30  | -- | G3 | G2 | -- | G2 | -- | -- |\n",
    "| 07:30 - 8:00  | -- | G3 | G2 | -- | G2 | -- | -- |\n",
    "| 08:00 - 8:30  | -- | -- | G2 | -- | G2 | -- | -- |\n",
    "| 08:30 - 9:00  | -- | -- | -- | -- | -- | -- | -- |\n",
    "| 09:00 - 9:30  | -- | G1 | -- | -- | G3 | -- | -- |\n",
    "| 09:30 - 10:00 | -- | -- | G1 | -- | G1 | -- | -- |\n",
    "| 10:00 - 10:30 | -- | G1 | G1 | -- | G1 | -- | -- |\n",
    "| 10:30 - 11:00 | -- | G1 | G1 | -- | G1 | -- | -- |\n",
    "| 11:00 - 11:30 | -- | -- | -- | -- | -- | -- | -- |\n",
    "| 11:30 - 12:00 | -- | -- | -- | -- | -- | -- | -- |\n",
    "\n",
    "| Occupation | Monday | Tuesday | Wednesday | Thursday | Friday | Saturday | Sunday |\n",
    "| --- | --- | --- | --- | --- | --- | --- | --- |\n",
    "| 07:00 - 7:30  | G1----- | G2----G3 | ---G1-G2 | G1-G2--- | G3----G2 | -- | -- |\n",
    "| 07:30 - 8:00  | G1----- | G2-G1-G3 | ---G3-G2 | G1-G2--- | G3----G2 | -- | -- |\n",
    "| 08:00 - 8:30  | G1----- | G2-G1--- | ---G3-G2 | G1------ | G3----G2 | -- | -- |\n",
    "| 08:30 - 9:00  | ------- | -------- | -------- | -------- | G3------ | -- | -- |\n",
    "| 09:00 - 9:30  | ------- | ------G1 | -------- | -------- | G3----G3 | -- | -- |\n",
    "| 09:30 - 10:00 | G2-G3-- | G3-G1--- | ---G2-G1 | G3------ | ------G1 | -- | -- |\n",
    "| 10:00 - 10:30 | G2-G3-- | G3-G1-G1 | ---G2-G1 | G3------ | ------G1 | -- | -- |\n",
    "| 10:30 - 11:00 | G2-G3-- | G3----G1 | ---G2-G1 | G3-G1--- | ------G1 | -- | -- |\n",
    "| 11:00 - 11:30 | G1-G3-- | G3------ | ---G2--- | G3-G1--- | -------- | -- | -- |\n",
    "| 11:30 - 12:00 | G1-G3-- | G3------ | ---G2--- | G3-G1--- | -------- | -- | -- |\n",
    "\n",
    "\n",
    "\n"
   ]
  },
  {
   "attachments": {},
   "cell_type": "markdown",
   "metadata": {},
   "source": [
    "### Patient Schedules\n",
    "We limited the schedules from 7:00 to 12:00 for clarity\n",
    "| Patient 1 | Monday | Tuesday | Wednesday | Thursday | Friday | Saturday | Sunday |\n",
    "| --- | --- | --- | --- | --- | --- | --- | --- |\n",
    "| 07:00 - 7:30  | -- | -- | -- | -- | -- | -- | -- |\n",
    "| 07:30 - 8:00  | -- | -- | -- | -- | G3 | -- | -- |\n",
    "| 08:00 - 8:30  | -- | -- | -- | -- | G3 | -- | -- |\n",
    "| 08:30 - 9:00  | -- | -- | -- | -- | G3 | -- | -- |\n",
    "| 09:00 - 9:30  | -- | -- | -- | -- | G3 | -- | -- |\n",
    "| 09:30 - 10:00 | G2 | -- | -- | -- | -- | -- | -- |\n",
    "| 10:00 - 10:30 | G2 | -- | -- | -- | -- | -- | -- |\n",
    "| 10:30 - 11:00 | -- | -- | -- | -- | -- | -- | -- |\n",
    "| 11:00 - 11:30 | G1 | -- | -- | -- | -- | -- | -- |\n",
    "| 11:30 - 12:00 | -- | -- | -- | -- | -- | -- | -- |\n",
    "\n",
    "| Patient 2 | Monday | Tuesday | Wednesday | Thursday | Friday | Saturday | Sunday |\n",
    "| --- | --- | --- | --- | --- | --- | --- | --- |\n",
    "| 07:00 - 7:30  | -- | G3 | -- | -- | -- | -- | -- |\n",
    "| 07:30 - 8:00  | -- | G3 | -- | -- | G3 | -- | -- |\n",
    "| 08:00 - 8:30  | -- | -- | -- | -- | G3 | -- | -- |\n",
    "| 08:30 - 9:00  | -- | -- | -- | -- | G3 | -- | -- |\n",
    "| 09:00 - 9:30  | -- | -- | -- | -- | G3 | -- | -- |\n",
    "| 09:30 - 10:00 | -- | -- | -- | -- | -- | -- | -- |\n",
    "| 10:00 - 10:30 | -- | -- | -- | -- | -- | -- | -- |\n",
    "| 10:30 - 11:00 | -- | -- | -- | -- | -- | -- | -- |\n",
    "| 11:00 - 11:30 | -- | -- | -- | -- | -- | -- | -- |\n",
    "| 11:30 - 12:00 | -- | -- | -- | -- | -- | -- | -- |\n",
    "\n",
    "| Patient 3 | Monday | Tuesday | Wednesday | Thursday | Friday | Saturday | Sunday |\n",
    "| --- | --- | --- | --- | --- | --- | --- | --- |\n",
    "| 07:00 - 7:30  | -- | -- | G2 | -- | -- | -- | -- |\n",
    "| 07:30 - 8:00  | -- | -- | G2 | -- | -- | -- | -- |\n",
    "| 08:00 - 8:30  | -- | -- | G2 | -- | -- | -- | -- |\n",
    "| 08:30 - 9:00  | -- | -- | -- | -- | -- | -- | -- |\n",
    "| 09:00 - 9:30  | -- | -- | -- | -- | -- | -- | -- |\n",
    "| 09:30 - 10:00 | -- | -- | G2 | -- | -- | -- | -- |\n",
    "| 10:00 - 10:30 | -- | -- | G2 | G3 | -- | -- | -- |\n",
    "| 10:30 - 11:00 | -- | -- | G2 | G3 | -- | -- | -- |\n",
    "| 11:00 - 11:30 | -- | -- | -- | G3 | -- | -- | -- |\n",
    "| 11:30 - 12:00 | -- | -- | -- | -- | -- | -- | -- |\n"
   ]
  },
  {
   "cell_type": "code",
   "execution_count": 2,
   "metadata": {},
   "outputs": [],
   "source": [
    "# define dummy employees\n",
    "employee1 = Employee(1)\n",
    "employee2 = Employee(2)\n",
    "employee3 = Employee(3)\n",
    "\n",
    "employee1.schedule.add_items([\n",
    "        (1, DayOfTheWeek.MONDAY, 7,8.5,1),\n",
    "        (1, DayOfTheWeek.MONDAY, 9.5,11,2),\n",
    "        (1, DayOfTheWeek.MONDAY, 11,12,1),\n",
    "        (1, DayOfTheWeek.TUESDAY, 7,8.5,2),\n",
    "        (1, DayOfTheWeek.TUESDAY, 9.5,12,3),\n",
    "        (1, DayOfTheWeek.THURSDAY,7,8.5,1),\n",
    "        (1, DayOfTheWeek.THURSDAY,9.5,12,3),\n",
    "        (1, DayOfTheWeek.FRIDAY, 7,9.5,3),\n",
    "    ])\n",
    "\n",
    "employee2.schedule.add_items([\n",
    "        (1, DayOfTheWeek.MONDAY, 9.5,12,3),\n",
    "        (1, DayOfTheWeek.TUESDAY, 7.5,8.5,1),\n",
    "        (1, DayOfTheWeek.TUESDAY, 9.5,10.5,1),\n",
    "        (1, DayOfTheWeek.WEDNESDAY, 7,7.5,1),\n",
    "        (1, DayOfTheWeek.WEDNESDAY,7.5,8.5,3),\n",
    "        (1, DayOfTheWeek.WEDNESDAY,9.5,12,2),\n",
    "        (1, DayOfTheWeek.THURSDAY, 7,8,2),\n",
    "        (1, DayOfTheWeek.THURSDAY, 10.5,12,1)\n",
    "    ])\n",
    "\n",
    "employee3.schedule.add_items([\n",
    "    (1, DayOfTheWeek.TUESDAY,7,8,3),\n",
    "    (1, DayOfTheWeek.TUESDAY,9,9.5,1),\n",
    "    (1, DayOfTheWeek.TUESDAY,10,11,1),\n",
    "    (1, DayOfTheWeek.WEDNESDAY,7,8.5,2),\n",
    "    (1, DayOfTheWeek.WEDNESDAY,9.5,11,1),\n",
    "    (1, DayOfTheWeek.FRIDAY,7,8.5,2),\n",
    "    (1, DayOfTheWeek.FRIDAY,9,9.5,3),\n",
    "    (1, DayOfTheWeek.FRIDAY,9.5,11,1),\n",
    "])\n",
    "\n",
    "employees = (employee1, employee2, employee3)\n"
   ]
  },
  {
   "cell_type": "code",
   "execution_count": 3,
   "metadata": {},
   "outputs": [],
   "source": [
    "# define dummy patients\n",
    "patient1 = Patient(1)\n",
    "patient2 = Patient(2)\n",
    "patient3 = Patient(3)\n",
    "\n",
    "patient1.schedule.add_items([\n",
    "        (1, DayOfTheWeek.MONDAY, 9.5,10.5,2),\n",
    "        (1, DayOfTheWeek.MONDAY, 11,11.5,1),\n",
    "        (1, DayOfTheWeek.FRIDAY, 7.5,9.5,3),\n",
    "    ])\n",
    "\n",
    "patient2.schedule.add_items([\n",
    "    (1, DayOfTheWeek.TUESDAY,7,8,3),\n",
    "    (1, DayOfTheWeek.FRIDAY,7.5,9.5,3),\n",
    "    ])\n",
    "\n",
    "patient3.schedule.add_items([\n",
    "    (1, DayOfTheWeek.WEDNESDAY,7,8.5,2),\n",
    "    (1, DayOfTheWeek.WEDNESDAY,9.5,11,2),\n",
    "    (1, DayOfTheWeek.THURSDAY,10,11.5,3),\n",
    "])\n",
    "\n",
    "patients = (patient1, patient2, patient3)"
   ]
  },
  {
   "cell_type": "code",
   "execution_count": 4,
   "metadata": {},
   "outputs": [
    {
     "name": "stdout",
     "output_type": "stream",
     "text": [
      "\n",
      " Schedule template for employee 1\n",
      "MONDAY from 7 to 8.5 scheduled 1\n",
      "MONDAY from 9.5 to 11 scheduled 2\n",
      "MONDAY from 11 to 12 scheduled 1\n",
      "TUESDAY from 7 to 8.5 scheduled 2\n",
      "TUESDAY from 9.5 to 12 scheduled 3\n",
      "THURSDAY from 7 to 8.5 scheduled 1\n",
      "THURSDAY from 9.5 to 12 scheduled 3\n",
      "FRIDAY from 7 to 9.5 scheduled 3\n",
      "\n",
      " Schedule template for employee 2\n",
      "MONDAY from 9.5 to 12 scheduled 3\n",
      "TUESDAY from 7.5 to 8.5 scheduled 1\n",
      "TUESDAY from 9.5 to 10.5 scheduled 1\n",
      "WEDNESDAY from 7 to 7.5 scheduled 1\n",
      "WEDNESDAY from 7.5 to 8.5 scheduled 3\n",
      "WEDNESDAY from 9.5 to 12 scheduled 2\n",
      "THURSDAY from 7 to 8 scheduled 2\n",
      "THURSDAY from 10.5 to 12 scheduled 1\n",
      "\n",
      " Schedule template for employee 3\n",
      "TUESDAY from 7 to 8 scheduled 3\n",
      "TUESDAY from 9 to 9.5 scheduled 1\n",
      "TUESDAY from 10 to 11 scheduled 1\n",
      "WEDNESDAY from 7 to 8.5 scheduled 2\n",
      "WEDNESDAY from 9.5 to 11 scheduled 1\n",
      "FRIDAY from 7 to 8.5 scheduled 2\n",
      "FRIDAY from 9 to 9.5 scheduled 3\n",
      "FRIDAY from 9.5 to 11 scheduled 1\n"
     ]
    }
   ],
   "source": [
    "for employee in employees:\n",
    "    print('\\n',employee)"
   ]
  },
  {
   "cell_type": "code",
   "execution_count": 5,
   "metadata": {},
   "outputs": [
    {
     "name": "stdout",
     "output_type": "stream",
     "text": [
      "\n",
      " Schedule template for patient 1\n",
      "MONDAY from 9.5 to 10.5 scheduled 2\n",
      "MONDAY from 11 to 11.5 scheduled 1\n",
      "FRIDAY from 7.5 to 9.5 scheduled 3\n",
      "\n",
      " Schedule template for patient 2\n",
      "TUESDAY from 7 to 8 scheduled 3\n",
      "FRIDAY from 7.5 to 9.5 scheduled 3\n",
      "\n",
      " Schedule template for patient 3\n",
      "WEDNESDAY from 7 to 8.5 scheduled 2\n",
      "WEDNESDAY from 9.5 to 11 scheduled 2\n",
      "THURSDAY from 10 to 11.5 scheduled 3\n"
     ]
    }
   ],
   "source": [
    "for patient in patients:\n",
    "    print('\\n',patient)"
   ]
  },
  {
   "cell_type": "code",
   "execution_count": 6,
   "metadata": {},
   "outputs": [
    {
     "data": {
      "text/plain": [
       "[('1109.50', '1110.50', 2),\n",
       " ('1111.00', '1111.50', 1),\n",
       " ('1507.50', '1509.50', 3)]"
      ]
     },
     "execution_count": 6,
     "metadata": {},
     "output_type": "execute_result"
    }
   ],
   "source": [
    "patient1.schedule.get_numeric_template()"
   ]
  },
  {
   "cell_type": "code",
   "execution_count": 7,
   "metadata": {},
   "outputs": [],
   "source": [
    "# Create a maximization problem\n",
    "prob = LpProblem(\"Patient_scheduling\", LpMaximize)"
   ]
  },
  {
   "cell_type": "code",
   "execution_count": null,
   "metadata": {},
   "outputs": [],
   "source": []
  }
 ],
 "metadata": {
  "kernelspec": {
   "display_name": "base",
   "language": "python",
   "name": "python3"
  },
  "language_info": {
   "codemirror_mode": {
    "name": "ipython",
    "version": 3
   },
   "file_extension": ".py",
   "mimetype": "text/x-python",
   "name": "python",
   "nbconvert_exporter": "python",
   "pygments_lexer": "ipython3",
   "version": "3.9.16"
  },
  "orig_nbformat": 4,
  "vscode": {
   "interpreter": {
    "hash": "64b5ebc2a88562451ee9a774e6cec0de5d53c9a96219bffe930117b4328505ac"
   }
  }
 },
 "nbformat": 4,
 "nbformat_minor": 2
}
